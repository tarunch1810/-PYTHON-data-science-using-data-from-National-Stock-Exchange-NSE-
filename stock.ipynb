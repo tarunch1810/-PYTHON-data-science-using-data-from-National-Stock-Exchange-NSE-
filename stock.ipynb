{
 "cells": [
  {
   "cell_type": "code",
   "execution_count": 3,
   "metadata": {},
   "outputs": [
    {
     "name": "stdout",
     "output_type": "stream",
     "text": [
      "Requirement already satisfied: nsepy in c:\\users\\tarun\\anaconda3\\lib\\site-packages (0.8)\n",
      "Requirement already satisfied: lxml in c:\\users\\tarun\\anaconda3\\lib\\site-packages (from nsepy) (4.5.2)\n",
      "Requirement already satisfied: click in c:\\users\\tarun\\anaconda3\\lib\\site-packages (from nsepy) (7.1.2)\n",
      "Requirement already satisfied: six in c:\\users\\tarun\\anaconda3\\lib\\site-packages (from nsepy) (1.15.0)\n",
      "Requirement already satisfied: requests in c:\\users\\tarun\\anaconda3\\lib\\site-packages (from nsepy) (2.24.0)\n",
      "Requirement already satisfied: beautifulsoup4 in c:\\users\\tarun\\anaconda3\\lib\\site-packages (from nsepy) (4.9.1)\n",
      "Requirement already satisfied: pandas in c:\\users\\tarun\\anaconda3\\lib\\site-packages (from nsepy) (1.0.5)\n",
      "Requirement already satisfied: numpy in c:\\users\\tarun\\anaconda3\\lib\\site-packages (from nsepy) (1.18.5)\n",
      "Requirement already satisfied: urllib3!=1.25.0,!=1.25.1,<1.26,>=1.21.1 in c:\\users\\tarun\\anaconda3\\lib\\site-packages (from requests->nsepy) (1.25.9)\n",
      "Requirement already satisfied: certifi>=2017.4.17 in c:\\users\\tarun\\anaconda3\\lib\\site-packages (from requests->nsepy) (2020.6.20)\n",
      "Requirement already satisfied: chardet<4,>=3.0.2 in c:\\users\\tarun\\anaconda3\\lib\\site-packages (from requests->nsepy) (3.0.4)\n",
      "Requirement already satisfied: idna<3,>=2.5 in c:\\users\\tarun\\anaconda3\\lib\\site-packages (from requests->nsepy) (2.10)\n",
      "Requirement already satisfied: soupsieve>1.2 in c:\\users\\tarun\\anaconda3\\lib\\site-packages (from beautifulsoup4->nsepy) (2.0.1)\n",
      "Requirement already satisfied: pytz>=2017.2 in c:\\users\\tarun\\anaconda3\\lib\\site-packages (from pandas->nsepy) (2020.1)\n",
      "Requirement already satisfied: python-dateutil>=2.6.1 in c:\\users\\tarun\\anaconda3\\lib\\site-packages (from pandas->nsepy) (2.8.1)\n",
      "Note: you may need to restart the kernel to use updated packages.\n"
     ]
    }
   ],
   "source": [
    "pip install nsepy"
   ]
  },
  {
   "cell_type": "code",
   "execution_count": 35,
   "metadata": {},
   "outputs": [],
   "source": [
    "import nsepy\n",
    "import datetime\n",
    "import pandas as pd"
   ]
  },
  {
   "cell_type": "code",
   "execution_count": 36,
   "metadata": {},
   "outputs": [
    {
     "name": "stdout",
     "output_type": "stream",
     "text": [
      "22:10:29\n"
     ]
    }
   ],
   "source": [
    "now = datetime.datetime.now()\n",
    "current_time = now.strftime(\"%H:%M:%S\")\n",
    "print(current_time)"
   ]
  },
  {
   "cell_type": "code",
   "execution_count": 37,
   "metadata": {},
   "outputs": [],
   "source": [
    "def gethdata(stockname):\n",
    "    today=datetime.date.today()\n",
    "    duration=450\n",
    "    start=today+datetime.timedelta(-duration)\n",
    "    stockdata=nsepy.get_history(symbol=stockname,start=start,end=today)\n",
    "    return stockdata\n",
    "df=gethdata('SBIN')"
   ]
  },
  {
   "cell_type": "code",
   "execution_count": 38,
   "metadata": {},
   "outputs": [
    {
     "data": {
      "text/html": [
       "<div>\n",
       "<style scoped>\n",
       "    .dataframe tbody tr th:only-of-type {\n",
       "        vertical-align: middle;\n",
       "    }\n",
       "\n",
       "    .dataframe tbody tr th {\n",
       "        vertical-align: top;\n",
       "    }\n",
       "\n",
       "    .dataframe thead th {\n",
       "        text-align: right;\n",
       "    }\n",
       "</style>\n",
       "<table border=\"1\" class=\"dataframe\">\n",
       "  <thead>\n",
       "    <tr style=\"text-align: right;\">\n",
       "      <th></th>\n",
       "      <th>Symbol</th>\n",
       "      <th>Series</th>\n",
       "      <th>Prev Close</th>\n",
       "      <th>Open</th>\n",
       "      <th>High</th>\n",
       "      <th>Low</th>\n",
       "      <th>Last</th>\n",
       "      <th>Close</th>\n",
       "      <th>VWAP</th>\n",
       "      <th>Volume</th>\n",
       "      <th>Turnover</th>\n",
       "      <th>Trades</th>\n",
       "      <th>Deliverable Volume</th>\n",
       "      <th>%Deliverble</th>\n",
       "    </tr>\n",
       "    <tr>\n",
       "      <th>Date</th>\n",
       "      <th></th>\n",
       "      <th></th>\n",
       "      <th></th>\n",
       "      <th></th>\n",
       "      <th></th>\n",
       "      <th></th>\n",
       "      <th></th>\n",
       "      <th></th>\n",
       "      <th></th>\n",
       "      <th></th>\n",
       "      <th></th>\n",
       "      <th></th>\n",
       "      <th></th>\n",
       "      <th></th>\n",
       "    </tr>\n",
       "  </thead>\n",
       "  <tbody>\n",
       "    <tr>\n",
       "      <th>2019-10-24</th>\n",
       "      <td>SBIN</td>\n",
       "      <td>EQ</td>\n",
       "      <td>275.45</td>\n",
       "      <td>276.00</td>\n",
       "      <td>277.65</td>\n",
       "      <td>248.65</td>\n",
       "      <td>263.05</td>\n",
       "      <td>262.50</td>\n",
       "      <td>266.02</td>\n",
       "      <td>63943183</td>\n",
       "      <td>1.700998e+15</td>\n",
       "      <td>434945</td>\n",
       "      <td>13170984</td>\n",
       "      <td>0.2060</td>\n",
       "    </tr>\n",
       "    <tr>\n",
       "      <th>2019-10-25</th>\n",
       "      <td>SBIN</td>\n",
       "      <td>EQ</td>\n",
       "      <td>262.50</td>\n",
       "      <td>265.80</td>\n",
       "      <td>284.15</td>\n",
       "      <td>263.55</td>\n",
       "      <td>282.35</td>\n",
       "      <td>281.55</td>\n",
       "      <td>276.42</td>\n",
       "      <td>105518180</td>\n",
       "      <td>2.916686e+15</td>\n",
       "      <td>598440</td>\n",
       "      <td>15046974</td>\n",
       "      <td>0.1426</td>\n",
       "    </tr>\n",
       "    <tr>\n",
       "      <th>2019-10-27</th>\n",
       "      <td>SBIN</td>\n",
       "      <td>EQ</td>\n",
       "      <td>281.55</td>\n",
       "      <td>284.95</td>\n",
       "      <td>284.95</td>\n",
       "      <td>280.25</td>\n",
       "      <td>281.30</td>\n",
       "      <td>281.80</td>\n",
       "      <td>282.94</td>\n",
       "      <td>12185529</td>\n",
       "      <td>3.447724e+14</td>\n",
       "      <td>98481</td>\n",
       "      <td>3169728</td>\n",
       "      <td>0.2601</td>\n",
       "    </tr>\n",
       "    <tr>\n",
       "      <th>2019-10-29</th>\n",
       "      <td>SBIN</td>\n",
       "      <td>EQ</td>\n",
       "      <td>281.80</td>\n",
       "      <td>283.15</td>\n",
       "      <td>285.00</td>\n",
       "      <td>278.55</td>\n",
       "      <td>280.80</td>\n",
       "      <td>280.65</td>\n",
       "      <td>282.21</td>\n",
       "      <td>51033578</td>\n",
       "      <td>1.440228e+15</td>\n",
       "      <td>272560</td>\n",
       "      <td>16607377</td>\n",
       "      <td>0.3254</td>\n",
       "    </tr>\n",
       "    <tr>\n",
       "      <th>2019-10-30</th>\n",
       "      <td>SBIN</td>\n",
       "      <td>EQ</td>\n",
       "      <td>280.65</td>\n",
       "      <td>283.00</td>\n",
       "      <td>291.00</td>\n",
       "      <td>279.25</td>\n",
       "      <td>290.40</td>\n",
       "      <td>289.90</td>\n",
       "      <td>286.86</td>\n",
       "      <td>51469048</td>\n",
       "      <td>1.476427e+15</td>\n",
       "      <td>306035</td>\n",
       "      <td>15135958</td>\n",
       "      <td>0.2941</td>\n",
       "    </tr>\n",
       "  </tbody>\n",
       "</table>\n",
       "</div>"
      ],
      "text/plain": [
       "           Symbol Series  Prev Close    Open    High     Low    Last   Close  \\\n",
       "Date                                                                           \n",
       "2019-10-24   SBIN     EQ      275.45  276.00  277.65  248.65  263.05  262.50   \n",
       "2019-10-25   SBIN     EQ      262.50  265.80  284.15  263.55  282.35  281.55   \n",
       "2019-10-27   SBIN     EQ      281.55  284.95  284.95  280.25  281.30  281.80   \n",
       "2019-10-29   SBIN     EQ      281.80  283.15  285.00  278.55  280.80  280.65   \n",
       "2019-10-30   SBIN     EQ      280.65  283.00  291.00  279.25  290.40  289.90   \n",
       "\n",
       "              VWAP     Volume      Turnover  Trades  Deliverable Volume  \\\n",
       "Date                                                                      \n",
       "2019-10-24  266.02   63943183  1.700998e+15  434945            13170984   \n",
       "2019-10-25  276.42  105518180  2.916686e+15  598440            15046974   \n",
       "2019-10-27  282.94   12185529  3.447724e+14   98481             3169728   \n",
       "2019-10-29  282.21   51033578  1.440228e+15  272560            16607377   \n",
       "2019-10-30  286.86   51469048  1.476427e+15  306035            15135958   \n",
       "\n",
       "            %Deliverble  \n",
       "Date                     \n",
       "2019-10-24       0.2060  \n",
       "2019-10-25       0.1426  \n",
       "2019-10-27       0.2601  \n",
       "2019-10-29       0.3254  \n",
       "2019-10-30       0.2941  "
      ]
     },
     "execution_count": 38,
     "metadata": {},
     "output_type": "execute_result"
    }
   ],
   "source": [
    "df.head()"
   ]
  },
  {
   "cell_type": "code",
   "execution_count": 39,
   "metadata": {},
   "outputs": [],
   "source": [
    "sd=df[['Prev Close','High','Deliverable Volume','VWAP']]"
   ]
  },
  {
   "cell_type": "code",
   "execution_count": 52,
   "metadata": {},
   "outputs": [
    {
     "name": "stderr",
     "output_type": "stream",
     "text": [
      "C:\\Users\\tarun\\anaconda3\\lib\\site-packages\\pandas\\core\\indexing.py:966: SettingWithCopyWarning: \n",
      "A value is trying to be set on a copy of a slice from a DataFrame.\n",
      "Try using .loc[row_indexer,col_indexer] = value instead\n",
      "\n",
      "See the caveats in the documentation: https://pandas.pydata.org/pandas-docs/stable/user_guide/indexing.html#returning-a-view-versus-a-copy\n",
      "  self.obj[item] = s\n"
     ]
    }
   ],
   "source": [
    "sd.loc[sd['Prev Close'] <= sd['High'], 'Result'] = 1\n",
    "sd.loc[sd['Prev Close'] > sd['High'], 'Result'] = 0\n",
    "    "
   ]
  },
  {
   "cell_type": "code",
   "execution_count": 84,
   "metadata": {},
   "outputs": [],
   "source": [
    "import numpy as np\n",
    "import matplotlib.pyplot as plt\n",
    "import seaborn as sns\n",
    "import pandas as pd\n",
    "plt.style.use(\"ggplot\")\n",
    "%matplotlib inline"
   ]
  },
  {
   "cell_type": "code",
   "execution_count": 85,
   "metadata": {},
   "outputs": [
    {
     "data": {
      "text/html": [
       "<div>\n",
       "<style scoped>\n",
       "    .dataframe tbody tr th:only-of-type {\n",
       "        vertical-align: middle;\n",
       "    }\n",
       "\n",
       "    .dataframe tbody tr th {\n",
       "        vertical-align: top;\n",
       "    }\n",
       "\n",
       "    .dataframe thead th {\n",
       "        text-align: right;\n",
       "    }\n",
       "</style>\n",
       "<table border=\"1\" class=\"dataframe\">\n",
       "  <thead>\n",
       "    <tr style=\"text-align: right;\">\n",
       "      <th></th>\n",
       "      <th>Prev Close</th>\n",
       "      <th>High</th>\n",
       "      <th>Deliverable Volume</th>\n",
       "      <th>VWAP</th>\n",
       "      <th>Result</th>\n",
       "    </tr>\n",
       "    <tr>\n",
       "      <th>Date</th>\n",
       "      <th></th>\n",
       "      <th></th>\n",
       "      <th></th>\n",
       "      <th></th>\n",
       "      <th></th>\n",
       "    </tr>\n",
       "  </thead>\n",
       "  <tbody>\n",
       "    <tr>\n",
       "      <th>2019-10-24</th>\n",
       "      <td>275.45</td>\n",
       "      <td>277.65</td>\n",
       "      <td>13170984</td>\n",
       "      <td>266.02</td>\n",
       "      <td>1</td>\n",
       "    </tr>\n",
       "    <tr>\n",
       "      <th>2019-10-25</th>\n",
       "      <td>262.50</td>\n",
       "      <td>284.15</td>\n",
       "      <td>15046974</td>\n",
       "      <td>276.42</td>\n",
       "      <td>1</td>\n",
       "    </tr>\n",
       "    <tr>\n",
       "      <th>2019-10-27</th>\n",
       "      <td>281.55</td>\n",
       "      <td>284.95</td>\n",
       "      <td>3169728</td>\n",
       "      <td>282.94</td>\n",
       "      <td>1</td>\n",
       "    </tr>\n",
       "    <tr>\n",
       "      <th>2019-10-29</th>\n",
       "      <td>281.80</td>\n",
       "      <td>285.00</td>\n",
       "      <td>16607377</td>\n",
       "      <td>282.21</td>\n",
       "      <td>1</td>\n",
       "    </tr>\n",
       "    <tr>\n",
       "      <th>2019-10-30</th>\n",
       "      <td>280.65</td>\n",
       "      <td>291.00</td>\n",
       "      <td>15135958</td>\n",
       "      <td>286.86</td>\n",
       "      <td>1</td>\n",
       "    </tr>\n",
       "    <tr>\n",
       "      <th>...</th>\n",
       "      <td>...</td>\n",
       "      <td>...</td>\n",
       "      <td>...</td>\n",
       "      <td>...</td>\n",
       "      <td>...</td>\n",
       "    </tr>\n",
       "    <tr>\n",
       "      <th>2021-01-11</th>\n",
       "      <td>286.00</td>\n",
       "      <td>288.20</td>\n",
       "      <td>8900394</td>\n",
       "      <td>282.50</td>\n",
       "      <td>1</td>\n",
       "    </tr>\n",
       "    <tr>\n",
       "      <th>2021-01-12</th>\n",
       "      <td>282.50</td>\n",
       "      <td>293.85</td>\n",
       "      <td>14782759</td>\n",
       "      <td>286.89</td>\n",
       "      <td>1</td>\n",
       "    </tr>\n",
       "    <tr>\n",
       "      <th>2021-01-13</th>\n",
       "      <td>292.50</td>\n",
       "      <td>308.00</td>\n",
       "      <td>15723571</td>\n",
       "      <td>301.17</td>\n",
       "      <td>1</td>\n",
       "    </tr>\n",
       "    <tr>\n",
       "      <th>2021-01-14</th>\n",
       "      <td>306.80</td>\n",
       "      <td>309.25</td>\n",
       "      <td>11711561</td>\n",
       "      <td>307.16</td>\n",
       "      <td>1</td>\n",
       "    </tr>\n",
       "    <tr>\n",
       "      <th>2021-01-15</th>\n",
       "      <td>307.25</td>\n",
       "      <td>310.90</td>\n",
       "      <td>7294222</td>\n",
       "      <td>306.20</td>\n",
       "      <td>1</td>\n",
       "    </tr>\n",
       "  </tbody>\n",
       "</table>\n",
       "<p>310 rows × 5 columns</p>\n",
       "</div>"
      ],
      "text/plain": [
       "            Prev Close    High  Deliverable Volume    VWAP Result\n",
       "Date                                                             \n",
       "2019-10-24      275.45  277.65            13170984  266.02      1\n",
       "2019-10-25      262.50  284.15            15046974  276.42      1\n",
       "2019-10-27      281.55  284.95             3169728  282.94      1\n",
       "2019-10-29      281.80  285.00            16607377  282.21      1\n",
       "2019-10-30      280.65  291.00            15135958  286.86      1\n",
       "...                ...     ...                 ...     ...    ...\n",
       "2021-01-11      286.00  288.20             8900394  282.50      1\n",
       "2021-01-12      282.50  293.85            14782759  286.89      1\n",
       "2021-01-13      292.50  308.00            15723571  301.17      1\n",
       "2021-01-14      306.80  309.25            11711561  307.16      1\n",
       "2021-01-15      307.25  310.90             7294222  306.20      1\n",
       "\n",
       "[310 rows x 5 columns]"
      ]
     },
     "execution_count": 85,
     "metadata": {},
     "output_type": "execute_result"
    }
   ],
   "source": [
    "sd\n"
   ]
  },
  {
   "cell_type": "code",
   "execution_count": 86,
   "metadata": {},
   "outputs": [],
   "source": [
    "scores=sd[['Prev Close','High']].values\n",
    "results=sd['Result'].values"
   ]
  },
  {
   "cell_type": "code",
   "execution_count": 87,
   "metadata": {},
   "outputs": [
    {
     "data": {
      "image/png": "[encoded data removed]",
      "text/plain": [
       "<Figure size 432x288 with 1 Axes>"
      ]
     },
     "metadata": {
      "needs_background": "light"
     },
     "output_type": "display_data"
    }
   ],
   "source": [
    "passed=(results==1).reshape(310,1)\n",
    "failed=(results==0).reshape(310,1)\n",
    "ax=sns.scatterplot(x=scores[passed[:,0],0],y=scores[passed[:,0],1],marker=\"^\",\n",
    "                   color='green',s=60)\n",
    "sns.scatterplot(x=scores[failed[:,0],0],y=scores[failed[:,0],1],marker=\"X\",\n",
    "                   color='red',s=60)\n",
    "ax.set(xlabel='Prev Close',ylabel='High')\n",
    "ax.legend(['Passed','Failed'])\n",
    "\n",
    "plt.show();"
   ]
  },
  {
   "cell_type": "code",
   "execution_count": 109,
   "metadata": {},
   "outputs": [],
   "source": [
    "def logistic_function(x):\n",
    "    \n",
    "    return 1/(1+np.exp(-x))"
   ]
  },
  {
   "cell_type": "code",
   "execution_count": 120,
   "metadata": {},
   "outputs": [
    {
     "data": {
      "text/plain": [
       "0.5074994375506203"
      ]
     },
     "execution_count": 120,
     "metadata": {},
     "output_type": "execute_result"
    }
   ],
   "source": [
    "logistic_function(0.03"
   ]
  },
  {
   "cell_type": "markdown",
   "metadata": {},
   "source": [
    "#### def compute_cost(theta,x,y):\n",
    "    m=len(y)\n",
    "    y_pred=logistic_function(np.dot(x,theta))\n",
    "    error=(y*np.log(y_pred))+(1-y)*np.log(1-y_pred)\n",
    "    cost=-(1/m)*sum(error)\n",
    "    gradient=1/m*np.dot(x.transpose(),(y_pred-y))\n",
    "    return cost[0],gradient "
   ]
  },
  {
   "cell_type": "code",
   "execution_count": 112,
   "metadata": {},
   "outputs": [
    {
     "name": "stdout",
     "output_type": "stream",
     "text": [
      "Cost at initialization 0.6931471805599467\n",
      "Gradient at initialization [[-0.4]\n",
      " [-0.005859940803663947]\n",
      " [-0.01872894895752999]]\n"
     ]
    }
   ],
   "source": [
    "mean_scores=np.mean(scores,axis=0)\n",
    "std_scores=np.std(scores,axis=0)\n",
    "scores=(scores-mean_scores)/std_scores\n",
    "rows=scores.shape[0]\n",
    "cols=scores.shape[1]\n",
    "X=np.append(np.ones((rows,1)),scores,axis=1)\n",
    "y=results.reshape(rows,1)\n",
    "theta_init=np.zeros((cols+1,1))\n",
    "cost,gradient=compute_cost(theta_init,X,y)\n",
    "print('Cost at initialization',cost)\n",
    "print('Gradient at initialization',gradient)"
   ]
  },
  {
   "cell_type": "code",
   "execution_count": 113,
   "metadata": {},
   "outputs": [],
   "source": [
    "def gradient_descent(x,y,theta,alpha,iterations):\n",
    "    costs=[]\n",
    "    for i in range(iterations):\n",
    "        cost,gradient=compute_cost(theta,x,y)\n",
    "        theta=theta-(alpha*gradient)\n",
    "        costs.append(cost)\n",
    "    return theta,costs"
   ]
  },
  {
   "cell_type": "code",
   "execution_count": 114,
   "metadata": {},
   "outputs": [
    {
     "ename": "TypeError",
     "evalue": "loop of ufunc does not support argument 0 of type float which has no callable exp method",
     "output_type": "error",
     "traceback": [
      "\u001b[1;31m---------------------------------------------------------------------------\u001b[0m",
      "\u001b[1;31mAttributeError\u001b[0m                            Traceback (most recent call last)",
      "\u001b[1;31mAttributeError\u001b[0m: 'float' object has no attribute 'exp'",
      "\nThe above exception was the direct cause of the following exception:\n",
      "\u001b[1;31mTypeError\u001b[0m                                 Traceback (most recent call last)",
      "\u001b[1;32m<ipython-input-114-73258ed150a1>\u001b[0m in \u001b[0;36m<module>\u001b[1;34m\u001b[0m\n\u001b[1;32m----> 1\u001b[1;33m \u001b[0mtheta\u001b[0m\u001b[1;33m,\u001b[0m \u001b[0mcosts\u001b[0m \u001b[1;33m=\u001b[0m \u001b[0mgradient_descent\u001b[0m\u001b[1;33m(\u001b[0m\u001b[0mX\u001b[0m\u001b[1;33m,\u001b[0m \u001b[0my\u001b[0m\u001b[1;33m,\u001b[0m \u001b[0mtheta_init\u001b[0m\u001b[1;33m,\u001b[0m \u001b[1;36m1\u001b[0m\u001b[1;33m,\u001b[0m \u001b[1;36m200\u001b[0m\u001b[1;33m)\u001b[0m\u001b[1;33m\u001b[0m\u001b[1;33m\u001b[0m\u001b[0m\n\u001b[0m",
      "\u001b[1;32m<ipython-input-113-91613835e5e6>\u001b[0m in \u001b[0;36mgradient_descent\u001b[1;34m(x, y, theta, alpha, iterations)\u001b[0m\n\u001b[0;32m      2\u001b[0m     \u001b[0mcosts\u001b[0m\u001b[1;33m=\u001b[0m\u001b[1;33m[\u001b[0m\u001b[1;33m]\u001b[0m\u001b[1;33m\u001b[0m\u001b[1;33m\u001b[0m\u001b[0m\n\u001b[0;32m      3\u001b[0m     \u001b[1;32mfor\u001b[0m \u001b[0mi\u001b[0m \u001b[1;32min\u001b[0m \u001b[0mrange\u001b[0m\u001b[1;33m(\u001b[0m\u001b[0miterations\u001b[0m\u001b[1;33m)\u001b[0m\u001b[1;33m:\u001b[0m\u001b[1;33m\u001b[0m\u001b[1;33m\u001b[0m\u001b[0m\n\u001b[1;32m----> 4\u001b[1;33m         \u001b[0mcost\u001b[0m\u001b[1;33m,\u001b[0m\u001b[0mgradient\u001b[0m\u001b[1;33m=\u001b[0m\u001b[0mcompute_cost\u001b[0m\u001b[1;33m(\u001b[0m\u001b[0mtheta\u001b[0m\u001b[1;33m,\u001b[0m\u001b[0mx\u001b[0m\u001b[1;33m,\u001b[0m\u001b[0my\u001b[0m\u001b[1;33m)\u001b[0m\u001b[1;33m\u001b[0m\u001b[1;33m\u001b[0m\u001b[0m\n\u001b[0m\u001b[0;32m      5\u001b[0m         \u001b[0mtheta\u001b[0m\u001b[1;33m=\u001b[0m\u001b[0mtheta\u001b[0m\u001b[1;33m-\u001b[0m\u001b[1;33m(\u001b[0m\u001b[0malpha\u001b[0m\u001b[1;33m*\u001b[0m\u001b[0mgradient\u001b[0m\u001b[1;33m)\u001b[0m\u001b[1;33m\u001b[0m\u001b[1;33m\u001b[0m\u001b[0m\n\u001b[0;32m      6\u001b[0m         \u001b[0mcosts\u001b[0m\u001b[1;33m.\u001b[0m\u001b[0mappend\u001b[0m\u001b[1;33m(\u001b[0m\u001b[0mcost\u001b[0m\u001b[1;33m)\u001b[0m\u001b[1;33m\u001b[0m\u001b[1;33m\u001b[0m\u001b[0m\n",
      "\u001b[1;32m<ipython-input-111-0de1e9781f01>\u001b[0m in \u001b[0;36mcompute_cost\u001b[1;34m(theta, x, y)\u001b[0m\n\u001b[0;32m      1\u001b[0m \u001b[1;32mdef\u001b[0m \u001b[0mcompute_cost\u001b[0m\u001b[1;33m(\u001b[0m\u001b[0mtheta\u001b[0m\u001b[1;33m,\u001b[0m\u001b[0mx\u001b[0m\u001b[1;33m,\u001b[0m\u001b[0my\u001b[0m\u001b[1;33m)\u001b[0m\u001b[1;33m:\u001b[0m\u001b[1;33m\u001b[0m\u001b[1;33m\u001b[0m\u001b[0m\n\u001b[0;32m      2\u001b[0m     \u001b[0mm\u001b[0m\u001b[1;33m=\u001b[0m\u001b[0mlen\u001b[0m\u001b[1;33m(\u001b[0m\u001b[0my\u001b[0m\u001b[1;33m)\u001b[0m\u001b[1;33m\u001b[0m\u001b[1;33m\u001b[0m\u001b[0m\n\u001b[1;32m----> 3\u001b[1;33m     \u001b[0my_pred\u001b[0m\u001b[1;33m=\u001b[0m\u001b[0mlogistic_function\u001b[0m\u001b[1;33m(\u001b[0m\u001b[0mnp\u001b[0m\u001b[1;33m.\u001b[0m\u001b[0mdot\u001b[0m\u001b[1;33m(\u001b[0m\u001b[0mx\u001b[0m\u001b[1;33m,\u001b[0m\u001b[0mtheta\u001b[0m\u001b[1;33m)\u001b[0m\u001b[1;33m)\u001b[0m\u001b[1;33m\u001b[0m\u001b[1;33m\u001b[0m\u001b[0m\n\u001b[0m\u001b[0;32m      4\u001b[0m     \u001b[0merror\u001b[0m\u001b[1;33m=\u001b[0m\u001b[1;33m(\u001b[0m\u001b[0my\u001b[0m\u001b[1;33m*\u001b[0m\u001b[0mnp\u001b[0m\u001b[1;33m.\u001b[0m\u001b[0mlog\u001b[0m\u001b[1;33m(\u001b[0m\u001b[0my_pred\u001b[0m\u001b[1;33m)\u001b[0m\u001b[1;33m)\u001b[0m\u001b[1;33m+\u001b[0m\u001b[1;33m(\u001b[0m\u001b[1;36m1\u001b[0m\u001b[1;33m-\u001b[0m\u001b[0my\u001b[0m\u001b[1;33m)\u001b[0m\u001b[1;33m*\u001b[0m\u001b[0mnp\u001b[0m\u001b[1;33m.\u001b[0m\u001b[0mlog\u001b[0m\u001b[1;33m(\u001b[0m\u001b[1;36m1\u001b[0m\u001b[1;33m-\u001b[0m\u001b[0my_pred\u001b[0m\u001b[1;33m)\u001b[0m\u001b[1;33m\u001b[0m\u001b[1;33m\u001b[0m\u001b[0m\n\u001b[0;32m      5\u001b[0m     \u001b[0mcost\u001b[0m\u001b[1;33m=\u001b[0m\u001b[1;33m-\u001b[0m\u001b[1;33m(\u001b[0m\u001b[1;36m1\u001b[0m\u001b[1;33m/\u001b[0m\u001b[0mm\u001b[0m\u001b[1;33m)\u001b[0m\u001b[1;33m*\u001b[0m\u001b[0msum\u001b[0m\u001b[1;33m(\u001b[0m\u001b[0merror\u001b[0m\u001b[1;33m)\u001b[0m\u001b[1;33m\u001b[0m\u001b[1;33m\u001b[0m\u001b[0m\n",
      "\u001b[1;32m<ipython-input-109-58f1150b7de8>\u001b[0m in \u001b[0;36mlogistic_function\u001b[1;34m(x)\u001b[0m\n\u001b[0;32m      1\u001b[0m \u001b[1;32mdef\u001b[0m \u001b[0mlogistic_function\u001b[0m\u001b[1;33m(\u001b[0m\u001b[0mx\u001b[0m\u001b[1;33m)\u001b[0m\u001b[1;33m:\u001b[0m\u001b[1;33m\u001b[0m\u001b[1;33m\u001b[0m\u001b[0m\n\u001b[0;32m      2\u001b[0m \u001b[1;33m\u001b[0m\u001b[0m\n\u001b[1;32m----> 3\u001b[1;33m     \u001b[1;32mreturn\u001b[0m \u001b[1;36m1\u001b[0m\u001b[1;33m/\u001b[0m\u001b[1;33m(\u001b[0m\u001b[1;36m1\u001b[0m\u001b[1;33m+\u001b[0m\u001b[0mnp\u001b[0m\u001b[1;33m.\u001b[0m\u001b[0mexp\u001b[0m\u001b[1;33m(\u001b[0m\u001b[1;33m-\u001b[0m\u001b[0mx\u001b[0m\u001b[1;33m)\u001b[0m\u001b[1;33m)\u001b[0m\u001b[1;33m\u001b[0m\u001b[1;33m\u001b[0m\u001b[0m\n\u001b[0m",
      "\u001b[1;31mTypeError\u001b[0m: loop of ufunc does not support argument 0 of type float which has no callable exp method"
     ]
    }
   ],
   "source": [
    "theta, costs = gradient_descent(X, y, theta_init, 1, 200)"
   ]
  },
  {
   "cell_type": "code",
   "execution_count": 69,
   "metadata": {},
   "outputs": [
    {
     "ename": "NameError",
     "evalue": "name 'costs' is not defined",
     "output_type": "error",
     "traceback": [
      "\u001b[1;31m---------------------------------------------------------------------------\u001b[0m",
      "\u001b[1;31mNameError\u001b[0m                                 Traceback (most recent call last)",
      "\u001b[1;32m<ipython-input-69-619f173efbb6>\u001b[0m in \u001b[0;36m<module>\u001b[1;34m\u001b[0m\n\u001b[1;32m----> 1\u001b[1;33m \u001b[0mplt\u001b[0m\u001b[1;33m.\u001b[0m\u001b[0mplot\u001b[0m\u001b[1;33m(\u001b[0m\u001b[0mcosts\u001b[0m\u001b[1;33m)\u001b[0m\u001b[1;33m\u001b[0m\u001b[1;33m\u001b[0m\u001b[0m\n\u001b[0m\u001b[0;32m      2\u001b[0m \u001b[0mplt\u001b[0m\u001b[1;33m.\u001b[0m\u001b[0mxlabel\u001b[0m\u001b[1;33m(\u001b[0m\u001b[1;34m\"Iterations\"\u001b[0m\u001b[1;33m)\u001b[0m\u001b[1;33m\u001b[0m\u001b[1;33m\u001b[0m\u001b[0m\n\u001b[0;32m      3\u001b[0m \u001b[0mplt\u001b[0m\u001b[1;33m.\u001b[0m\u001b[0mylabel\u001b[0m\u001b[1;33m(\u001b[0m\u001b[1;34m\"theta\"\u001b[0m\u001b[1;33m)\u001b[0m\u001b[1;33m\u001b[0m\u001b[1;33m\u001b[0m\u001b[0m\n\u001b[0;32m      4\u001b[0m \u001b[0mplt\u001b[0m\u001b[1;33m.\u001b[0m\u001b[0mtitle\u001b[0m\u001b[1;33m(\u001b[0m\u001b[1;34m\"Values of cost function over iterations of gradient descent\"\u001b[0m\u001b[1;33m)\u001b[0m\u001b[1;33m\u001b[0m\u001b[1;33m\u001b[0m\u001b[0m\n",
      "\u001b[1;31mNameError\u001b[0m: name 'costs' is not defined"
     ]
    }
   ],
   "source": [
    "plt.plot(costs)\n",
    "plt.xlabel(\"Iterations\")\n",
    "plt.ylabel(\"theta\")\n",
    "plt.title(\"Values of cost function over iterations of gradient descent\")"
   ]
  },
  {
   "cell_type": "code",
   "execution_count": null,
   "metadata": {},
   "outputs": [],
   "source": []
  }
 ],
 "metadata": {
  "kernelspec": {
   "display_name": "Python 3",
   "language": "python",
   "name": "python3"
  },
  "language_info": {
   "codemirror_mode": {
    "name": "ipython",
    "version": 3
   },
   "file_extension": ".py",
   "mimetype": "text/x-python",
   "name": "python",
   "nbconvert_exporter": "python",
   "pygments_lexer": "ipython3",
   "version": "3.8.3"
  }
 },
 "nbformat": 4,
 "nbformat_minor": 4
}
